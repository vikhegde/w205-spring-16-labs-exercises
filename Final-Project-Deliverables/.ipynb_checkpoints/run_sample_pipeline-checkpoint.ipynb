{
 "cells": [
  {
   "cell_type": "code",
   "execution_count": 3,
   "metadata": {
    "collapsed": false
   },
   "outputs": [],
   "source": [
    "import time\n",
    "import pandas as pd\n",
    "import imp\n",
    "\n",
    "import sample_classes\n",
    "import ml_pipeline"
   ]
  },
  {
   "cell_type": "code",
   "execution_count": 4,
   "metadata": {
    "collapsed": false
   },
   "outputs": [
    {
     "ename": "NameError",
     "evalue": "name 'MLRoot' is not defined",
     "output_type": "error",
     "traceback": [
      "\u001b[1;31m---------------------------------------------------------------------------\u001b[0m",
      "\u001b[1;31mNameError\u001b[0m                                 Traceback (most recent call last)",
      "\u001b[1;32m<ipython-input-4-94e00c119b8f>\u001b[0m in \u001b[0;36m<module>\u001b[1;34m()\u001b[0m\n\u001b[1;32m----> 1\u001b[1;33m \u001b[0mMLRoot\u001b[0m\u001b[1;33m.\u001b[0m\u001b[0minit_storage\u001b[0m\u001b[1;33m(\u001b[0m\u001b[0mpassword\u001b[0m\u001b[1;33m=\u001b[0m\u001b[1;34m\"xypostgres\"\u001b[0m\u001b[1;33m,\u001b[0m \u001b[0mhost\u001b[0m\u001b[1;33m=\u001b[0m\u001b[1;34m\"localhost\"\u001b[0m\u001b[1;33m,\u001b[0m \u001b[0mport\u001b[0m\u001b[1;33m=\u001b[0m\u001b[1;34m\"5432\"\u001b[0m\u001b[1;33m)\u001b[0m\u001b[1;33m\u001b[0m\u001b[0m\n\u001b[0m\u001b[0;32m      2\u001b[0m \u001b[1;33m\u001b[0m\u001b[0m\n\u001b[0;32m      3\u001b[0m \u001b[0mmyname\u001b[0m \u001b[1;33m=\u001b[0m \u001b[1;34m\"run_sample_pipeline\"\u001b[0m\u001b[1;33m\u001b[0m\u001b[0m\n\u001b[0;32m      4\u001b[0m \u001b[0mstate_file\u001b[0m \u001b[1;33m=\u001b[0m \u001b[0mmyname\u001b[0m \u001b[1;33m+\u001b[0m \u001b[1;34m\".state.\"\u001b[0m \u001b[1;33m+\u001b[0m \u001b[0mstr\u001b[0m\u001b[1;33m(\u001b[0m\u001b[0mtime\u001b[0m\u001b[1;33m.\u001b[0m\u001b[0mtime\u001b[0m\u001b[1;33m(\u001b[0m\u001b[1;33m)\u001b[0m\u001b[1;33m)\u001b[0m\u001b[1;33m\u001b[0m\u001b[0m\n\u001b[0;32m      5\u001b[0m \u001b[1;33m\u001b[0m\u001b[0m\n",
      "\u001b[1;31mNameError\u001b[0m: name 'MLRoot' is not defined"
     ]
    }
   ],
   "source": [
    "ml_pipeline.MLRoot.init_storage(password=\"xypostgres\", host=\"localhost\", port=\"5432\")\n",
    "\n",
    "myname = \"run_sample_pipeline\"\n",
    "state_file = myname + \".state.\" + str(time.time())\n",
    "\n",
    "myML = ml_pipeline.MLRoot()\n",
    "myML.mount(mount_spec=\"./mnttab_sample_pipeline.json\")\n",
    "myML.print_tree()\n",
    "input_data = {}\n",
    "input_data[\"remote_loc\"] = \"\"\n",
    "myML.compile(json.dumps(input_data))\n",
    "input_data[\"remote_loc\"] = \"./sample_data.zip\"\n",
    "# Max data size we want is 1 GB\n",
    "myML.setprop(\"/root/fetch\", {\"max_size\" : 1})\n",
    "myML.setprop(\"/root/derive/extract_features\", {\"data_name\" : myname})\n",
    "myML.run(save=True, input_data=input_data, state=state_file)\n",
    "myML.umount()"
   ]
  },
  {
   "cell_type": "code",
   "execution_count": null,
   "metadata": {
    "collapsed": false
   },
   "outputs": [],
   "source": [
    "myML2 = MLRoot()\n",
    "myML2.run(save=False, resume=\"/root/model\", state=state_file)"
   ]
  }
 ],
 "metadata": {
  "kernelspec": {
   "display_name": "Python 2",
   "language": "python",
   "name": "python2"
  },
  "language_info": {
   "codemirror_mode": {
    "name": "ipython",
    "version": 2
   },
   "file_extension": ".py",
   "mimetype": "text/x-python",
   "name": "python",
   "nbconvert_exporter": "python",
   "pygments_lexer": "ipython2",
   "version": "2.7.11"
  }
 },
 "nbformat": 4,
 "nbformat_minor": 0
}
